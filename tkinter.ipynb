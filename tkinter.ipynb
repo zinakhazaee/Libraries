{
 "cells": [
  {
   "cell_type": "code",
   "execution_count": 1,
   "id": "5b6d716d",
   "metadata": {},
   "outputs": [],
   "source": [
    "from tkinter import *"
   ]
  },
  {
   "cell_type": "code",
   "execution_count": 2,
   "id": "40f3fcf4",
   "metadata": {},
   "outputs": [
    {
     "name": "stdout",
     "output_type": "stream",
     "text": [
      "Registration form is created seccussfully...\n"
     ]
    }
   ],
   "source": [
    "base = Tk()\n",
    "base.geometry('500x500')\n",
    "base.title(\"Registration Form\")\n",
    "\n",
    "labl_0 = Label(base, text=\"Registration form\",width=20,font=(\"bold\", 20))\n",
    "labl_0.place(x=90,y=53)\n",
    "\n",
    "\n",
    "labl_1 = Label(base, text=\"FullName\",width=20,font=(\"bold\", 10))\n",
    "labl_1.place(x=80,y=130)\n",
    "\n",
    "entry_1 = Entry(base)\n",
    "entry_1.place(x=240,y=130)\n",
    "\n",
    "labl_2 = Label(base, text=\"Email\",width=20,font=(\"bold\", 10))\n",
    "labl_2.place(x=68,y=180)\n",
    "\n",
    "entry_02 = Entry(base)\n",
    "entry_02.place(x=240,y=180)\n",
    "\n",
    "labl_3 = Label(base, text=\"Gender\",width=20,font=(\"bold\", 10))\n",
    "labl_3.place(x=70,y=230)\n",
    "varblbl = IntVar()\n",
    "Radiobutton(base, text=\"Male\",padx = 5,value=1).place(x=235,y=230)\n",
    "Radiobutton(base, text=\"Female\",padx = 20, value=2).place(x=290,y=230)\n",
    "\n",
    "labl_4 = Label(base, text=\"Age:\",width=20,font=(\"bold\", 10))\n",
    "labl_4.place(x=70,y=280)\n",
    "\n",
    "\n",
    "entry_02 = Entry(base)\n",
    "entry_02.place(x=240,y=280)\n",
    "\n",
    "Button(base, text='Submit',width=20,bg='brown',fg='white').place(x=180,y=380)\n",
    "# it will be used for displaying the registration form onto the window\n",
    "base.mainloop()\n",
    "print(\"Registration form is created seccussfully...\")"
   ]
  }
 ],
 "metadata": {
  "kernelspec": {
   "display_name": "Python 3 (ipykernel)",
   "language": "python",
   "name": "python3"
  },
  "language_info": {
   "codemirror_mode": {
    "name": "ipython",
    "version": 3
   },
   "file_extension": ".py",
   "mimetype": "text/x-python",
   "name": "python",
   "nbconvert_exporter": "python",
   "pygments_lexer": "ipython3",
   "version": "3.10.9"
  }
 },
 "nbformat": 4,
 "nbformat_minor": 5
}
